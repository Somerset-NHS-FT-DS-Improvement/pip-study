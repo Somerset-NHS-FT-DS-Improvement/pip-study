{
 "cells": [
  {
   "cell_type": "code",
   "execution_count": null,
   "metadata": {},
   "outputs": [],
   "source": [
    "import pandas as pd\n",
    "import numpy as np\n",
    "from scipy.stats import ttest_rel\n",
    "import matplotlib.pyplot as plt\n",
    "import seaborn as sns\n",
    "import statsmodels.api as sm\n",
    "from prop_confidence_intervals import wald\n",
    "\n",
    "%matplotlib inline\n",
    "sns.set(style=\"whitegrid\", context=\"paper\")\n",
    "\n",
    "import warnings\n",
    "\n",
    "warnings.filterwarnings(\"ignore\")"
   ]
  },
  {
   "cell_type": "markdown",
   "metadata": {},
   "source": [
    " Read in & filter PiP dataset"
   ]
  },
  {
   "cell_type": "code",
   "execution_count": null,
   "metadata": {},
   "outputs": [],
   "source": [
    "data = pd.read_csv(\"pip_cleaned_data.csv\")\n",
    "data = data[data.keep_sample == 1]  # Removing unpaired/erroneous samples"
   ]
  },
  {
   "cell_type": "markdown",
   "metadata": {},
   "source": [
    "### Sample counts"
   ]
  },
  {
   "cell_type": "code",
   "execution_count": null,
   "metadata": {},
   "outputs": [],
   "source": [
    "# Ensure the dataframe is sorted by id and container\n",
    "df = data.sort_values(by=[\"Specimen Number\", \"container\"])[\n",
    "    [\n",
    "        \"Specimen Number\",\n",
    "        \"All Small Particles\",\n",
    "        \"Bacteria\",\n",
    "        \"RBC (Urine)\",\n",
    "        \"WBC (Urine)\",\n",
    "        \"container\",\n",
    "    ]\n",
    "].reset_index(drop=1)"
   ]
  },
  {
   "cell_type": "code",
   "execution_count": null,
   "metadata": {},
   "outputs": [],
   "source": [
    "df.info()  # Show data types/ missing values"
   ]
  },
  {
   "cell_type": "markdown",
   "metadata": {},
   "source": [
    "Missing microscopy results"
   ]
  },
  {
   "cell_type": "code",
   "execution_count": null,
   "metadata": {},
   "outputs": [],
   "source": [
    "missing_data = df[df.isna().any(axis=1)]\n",
    "missing_data"
   ]
  },
  {
   "cell_type": "markdown",
   "metadata": {},
   "source": [
    "Drop missing specimens from data"
   ]
  },
  {
   "cell_type": "code",
   "execution_count": null,
   "metadata": {},
   "outputs": [],
   "source": [
    "df = df[~df[\"Specimen Number\"].isin(missing_data[\"Specimen Number\"])]\n",
    "df"
   ]
  },
  {
   "cell_type": "markdown",
   "metadata": {},
   "source": [
    "Restructure data"
   ]
  },
  {
   "cell_type": "code",
   "execution_count": null,
   "metadata": {},
   "outputs": [],
   "source": [
    "# Melt the dataframe to long format\n",
    "df_melted = df.melt(\n",
    "    id_vars=[\"container\", \"Specimen Number\"],\n",
    "    value_vars=[\"All Small Particles\", \"Bacteria\", \"RBC (Urine)\", \"WBC (Urine)\"],\n",
    "    var_name=\"count type\",\n",
    "    value_name=\"count value\",\n",
    ")\n",
    "df_melted[\"log_transform\"] = np.log(df_melted[\"count value\"] + 1)\n",
    "df_melted.head()"
   ]
  },
  {
   "cell_type": "markdown",
   "metadata": {},
   "source": [
    "Outliers"
   ]
  },
  {
   "cell_type": "code",
   "execution_count": null,
   "metadata": {},
   "outputs": [],
   "source": [
    "df_melted[\n",
    "    df_melted[\"Specimen Number\"].isin([\"C02329514\", \"C02366588\"])\n",
    "]  # Outlier specimens"
   ]
  },
  {
   "cell_type": "markdown",
   "metadata": {},
   "source": [
    "Remove outliers from analysis"
   ]
  },
  {
   "cell_type": "code",
   "execution_count": null,
   "metadata": {},
   "outputs": [],
   "source": [
    "df_melted = df_melted[~df_melted[\"Specimen Number\"].isin([\"C02329514\", \"C02366588\"])]"
   ]
  },
  {
   "cell_type": "markdown",
   "metadata": {},
   "source": [
    "Data summary"
   ]
  },
  {
   "cell_type": "code",
   "execution_count": null,
   "metadata": {},
   "outputs": [],
   "source": [
    "df_melted.groupby(by=[\"container\", \"count type\"])[[\"count value\"]].describe()"
   ]
  },
  {
   "cell_type": "markdown",
   "metadata": {},
   "source": [
    "Visualise distributions for counts"
   ]
  },
  {
   "cell_type": "code",
   "execution_count": null,
   "metadata": {},
   "outputs": [],
   "source": [
    "# Create a 2 by 2 plot\n",
    "fig, axs = plt.subplots(2, 2, figsize=(9, 7))\n",
    "\n",
    "# Flatten the axs array for easy iteration\n",
    "axs = axs.flatten()\n",
    "\n",
    "for x, ax, ref in zip(\n",
    "    [\"All Small Particles\", \"Bacteria\", \"RBC (Urine)\", \"WBC (Urine)\"], axs, ['A', 'B', 'C', 'D']\n",
    "):\n",
    "\n",
    "    sns.kdeplot(\n",
    "        data=df_melted[df_melted[\"count type\"] == x],\n",
    "        x=\"count value\",\n",
    "        hue=\"container\",\n",
    "        ax=ax,\n",
    "    )\n",
    "\n",
    "    ax.set_title(x, fontsize=12)\n",
    "    \n",
    "    if ref in ['C', 'D']:\n",
    "        ax.set_xlabel(r\"Microscopy counts $(10^6/\\text{L})$\", fontsize=12)\n",
    "    else:\n",
    "        ax.set_xlabel(\"\", fontsize=12)\n",
    "    \n",
    "    if ref in ['B', 'D']:\n",
    "        ax.set_ylabel(\"\", fontsize=12)\n",
    "    else:    \n",
    "        ax.set_ylabel(\"Density\", fontsize=12)\n",
    "\n",
    "    ax.tick_params(axis=\"both\", which=\"major\", labelsize=10)\n",
    "\n",
    "    # Only keep legend in first plot\n",
    "    if x != \"All Small Particles\":\n",
    "        ax.get_legend().remove()\n",
    "        \n",
    "    ax.text(-0.1, 1.1, ref, transform=ax.transAxes, \n",
    "            size=15, weight='bold')\n",
    "    \n",
    "fig.suptitle(\n",
    "    \"Kernel Density Estimation: Comparing PiP and Control Microscopy Distributions\",\n",
    "    fontsize=14,\n",
    ")\n",
    "fig.tight_layout()\n",
    "\n",
    "plt.savefig(\n",
    "    \"figures/comparing_microscopy_distributions.png\", dpi=600, bbox_inches=\"tight\"\n",
    ")\n",
    "\n",
    "fig.show()"
   ]
  },
  {
   "cell_type": "markdown",
   "metadata": {},
   "source": [
    "Visualise distribution (applying log transformation)"
   ]
  },
  {
   "cell_type": "code",
   "execution_count": null,
   "metadata": {},
   "outputs": [],
   "source": [
    "# Create a 2 by 2 plot\n",
    "fig, axs = plt.subplots(2, 2, figsize=(9, 7))\n",
    "\n",
    "# Flatten the axs array for easy iteration\n",
    "axs = axs.flatten()\n",
    "\n",
    "for x, ax, ref in zip(\n",
    "    [\"All Small Particles\", \"Bacteria\", \"RBC (Urine)\", \"WBC (Urine)\"], axs, ['A', 'B', 'C', 'D']\n",
    "):\n",
    "\n",
    "    sns.kdeplot(\n",
    "        data=df_melted[df_melted[\"count type\"] == x],\n",
    "        x=\"log_transform\",\n",
    "        hue=\"container\",\n",
    "        ax=ax,\n",
    "    )\n",
    "\n",
    "    ax.set_title(x, fontsize=12)\n",
    "    \n",
    "    if ref in ['C', 'D']:\n",
    "        ax.set_xlabel(r\"$\\log_{10}(\\text{Microscopy counts} + 1)$\", fontsize=12)\n",
    "    else:\n",
    "        ax.set_xlabel(\"\", fontsize=12)\n",
    "    \n",
    "    if ref in ['B', 'D']:\n",
    "        ax.set_ylabel(\"\", fontsize=12)\n",
    "    else:    \n",
    "        ax.set_ylabel(\"Density\", fontsize=12)\n",
    "\n",
    "    ax.tick_params(axis=\"both\", which=\"major\", labelsize=10)\n",
    "\n",
    "    # Only keep legend in first plot\n",
    "    if x != \"All Small Particles\":\n",
    "        ax.get_legend().remove()\n",
    "        \n",
    "    ax.text(-0.1, 1.1, ref, transform=ax.transAxes, \n",
    "            size=15, weight='bold')\n",
    "    \n",
    "fig.suptitle(\n",
    "    \"Kernel Density Estimation: Comparing log transformed PiP and Control Microscopy Distributions\",\n",
    "    fontsize=14,\n",
    ")\n",
    "fig.tight_layout()\n",
    "\n",
    "plt.savefig(\n",
    "    \"figures/comparing_log_transformed_microscopy_distributions.png\",\n",
    "    dpi=600,\n",
    "    bbox_inches=\"tight\",\n",
    ")\n",
    "\n",
    "fig.show()"
   ]
  },
  {
   "cell_type": "markdown",
   "metadata": {},
   "source": [
    "Restructure data to analyse differences"
   ]
  },
  {
   "cell_type": "code",
   "execution_count": null,
   "metadata": {},
   "outputs": [],
   "source": [
    "difference_df = df_melted.pivot_table(\n",
    "    columns=[\"container\"], index=[\"count type\", \"Specimen Number\"], values=\"count value\"\n",
    ")\n",
    "difference_df[\"pip-control\"] = difference_df[\"PIP\"] - difference_df[\"PLASTIC\"]\n",
    "difference_df = difference_df.reset_index()\n",
    "difference_df.head()"
   ]
  },
  {
   "cell_type": "markdown",
   "metadata": {},
   "source": [
    "Summary of differences"
   ]
  },
  {
   "cell_type": "code",
   "execution_count": null,
   "metadata": {},
   "outputs": [],
   "source": [
    "difference_df.groupby(by=\"count type\")[[\"pip-control\"]].describe()"
   ]
  },
  {
   "cell_type": "markdown",
   "metadata": {},
   "source": [
    "Lower 95% range microscopy difference"
   ]
  },
  {
   "cell_type": "code",
   "execution_count": null,
   "metadata": {},
   "outputs": [],
   "source": [
    "difference_df.groupby(by=\"count type\")[[\"pip-control\"]].quantile(0.025)"
   ]
  },
  {
   "cell_type": "markdown",
   "metadata": {},
   "source": [
    "Upper 95% range microscopy difference"
   ]
  },
  {
   "cell_type": "code",
   "execution_count": null,
   "metadata": {},
   "outputs": [],
   "source": [
    "difference_df.groupby(by=\"count type\")[[\"pip-control\"]].quantile(0.975)"
   ]
  },
  {
   "cell_type": "markdown",
   "metadata": {},
   "source": [
    "Calculate confidence interval for differences"
   ]
  },
  {
   "cell_type": "code",
   "execution_count": null,
   "metadata": {
    "scrolled": false
   },
   "outputs": [],
   "source": [
    "# Create a 2 by 2 plot\n",
    "fig, axs = plt.subplots(2, 2, figsize=(9, 7))\n",
    "\n",
    "# Flatten the axs array for easy iteration\n",
    "axs = axs.flatten()\n",
    "\n",
    "# Initialise empty dictionaries\n",
    "comparing_data = {}\n",
    "paired_t_test_conf = {}\n",
    "\n",
    "# Initialise empty lists\n",
    "organsism_list = []\n",
    "lower_ci_list = []\n",
    "upper_ci_list = []\n",
    "diff_list = []\n",
    "sample_size_list = []\n",
    "std_err_list = []\n",
    "\n",
    "for c, ax, ref in zip(\n",
    "    [\"WBC (Urine)\", \"RBC (Urine)\", \"All Small Particles\", \"Bacteria\"], axs, ['A', 'B', 'C', 'D']\n",
    "):\n",
    "\n",
    "    # Filter differences_df and drop instances of missing values\n",
    "    filtered_differences_df = difference_df[difference_df[\"count type\"] == c]\n",
    "\n",
    "    # Obtain PiP and control Pandas.Series\n",
    "    PIP_vals = filtered_differences_df[\"PIP\"]\n",
    "    PLASTIC_vals = filtered_differences_df[\"PLASTIC\"]\n",
    "\n",
    "    # Run a paired t-test (SciPy)\n",
    "    t_test = ttest_rel(PIP_vals.values, PLASTIC_vals.values, alternative=\"two-sided\")\n",
    "\n",
    "    # Manually calculate mean difference\n",
    "    mean_diff = filtered_differences_df[\"pip-control\"].mean()\n",
    "\n",
    "    organsism_list.append(c)\n",
    "\n",
    "    # Obtain outputs from t_test object\n",
    "    lower_ci_list.append(t_test.confidence_interval().low)\n",
    "    upper_ci_list.append(t_test.confidence_interval().high)\n",
    "    std_err_list.append(t_test._standard_error)\n",
    "    diff_list.append(mean_diff)\n",
    "    sample_size_list.append(t_test.df + 1)\n",
    "\n",
    "    # Populate figure\n",
    "    sns.kdeplot(data=filtered_differences_df, x=\"pip-control\", ax=ax)\n",
    "\n",
    "    ax.set_title(f\"{c}\", fontsize=12)\n",
    "    if ref in ['C', 'D']:\n",
    "        ax.set_xlabel(r\"Microscopy count difference $(10^6/\\text{L})$\", fontsize=12)\n",
    "    else:\n",
    "        ax.set_xlabel(\"\", fontsize=12)\n",
    "    if ref in ['B', 'D']:\n",
    "        ax.set_ylabel(\"\", fontsize=12)\n",
    "    else:    \n",
    "        ax.set_ylabel(\"Density\", fontsize=12)\n",
    "\n",
    "    # Add confidence interval information\n",
    "    confidence_interval = f\"[{t_test.confidence_interval().low:.2f}, {t_test.confidence_interval().high:.2f}]\"\n",
    "    info_text = f\"Mean Difference: {mean_diff:.2f}\\n95% CI: {confidence_interval}\"\n",
    "    ax.text(\n",
    "        0.05,\n",
    "        0.95,\n",
    "        info_text,\n",
    "        transform=ax.transAxes,\n",
    "        fontsize=10,\n",
    "        verticalalignment=\"top\",\n",
    "        horizontalalignment=\"left\",\n",
    "        bbox=dict(facecolor=\"white\", alpha=1),\n",
    "    )\n",
    "\n",
    "    ax.tick_params(axis=\"both\", which=\"major\", labelsize=10)\n",
    "\n",
    "    ax.text(-0.1, 1.1, ref, transform=ax.transAxes, \n",
    "            size=15, weight='bold')\n",
    "    \n",
    "counts_diff = pd.DataFrame()\n",
    "counts_diff[\"organism\"] = organsism_list\n",
    "counts_diff[\"difference\"] = diff_list\n",
    "counts_diff[\"sem\"] = std_err_list\n",
    "counts_diff[\"lower_ci\"] = lower_ci_list\n",
    "counts_diff[\"upper_ci\"] = upper_ci_list\n",
    "counts_diff[\"sample_size\"] = sample_size_list\n",
    "\n",
    "fig.suptitle(\n",
    "    \"Kernel Density Estimation: Distribution of Microscopy Count Differences (PiP - control)\",\n",
    "    fontsize=14,\n",
    ")\n",
    "fig.tight_layout()\n",
    "\n",
    "plt.savefig(\"figures/microscopy_differences.png\", dpi=600, bbox_inches=\"tight\")"
   ]
  },
  {
   "cell_type": "markdown",
   "metadata": {},
   "source": [
    "Summary table for differences"
   ]
  },
  {
   "cell_type": "code",
   "execution_count": null,
   "metadata": {
    "scrolled": true
   },
   "outputs": [],
   "source": [
    "counts_diff"
   ]
  },
  {
   "cell_type": "markdown",
   "metadata": {},
   "source": [
    "Bland-Altman plot to compare differences"
   ]
  },
  {
   "cell_type": "code",
   "execution_count": null,
   "metadata": {},
   "outputs": [],
   "source": [
    "fig, axs = plt.subplots(2, 2, figsize=(12, 8))\n",
    "\n",
    "# Flatten the axs array for easy iteration\n",
    "axs = axs.flatten()\n",
    "\n",
    "for c, ax, ref in zip(\n",
    "    [\"WBC (Urine)\", \"RBC (Urine)\", \"All Small Particles\", \"Bacteria\"], axs, ['A', 'B', 'C', 'D']\n",
    "):\n",
    "\n",
    "    # Filter differences_df and drop instances of missing values\n",
    "    filtered_differences_df = difference_df[difference_df[\"count type\"] == c]\n",
    "\n",
    "    # Obtain PiP and control Pandas.Series\n",
    "    PIP_vals = filtered_differences_df[\"PIP\"]\n",
    "    PLASTIC_vals = filtered_differences_df[\"PLASTIC\"]\n",
    "    \n",
    "    sm.graphics.mean_diff_plot(PIP_vals, PLASTIC_vals, ax = ax)\n",
    "    ax.set_title(f\"{c}\", fontsize=14)\n",
    "    if ref in ['C', 'D']:\n",
    "        ax.set_xlabel(r\"Average of PiP & control\", fontsize=12)\n",
    "    else:\n",
    "        ax.set_xlabel(\"\", fontsize=12)\n",
    "\n",
    "    if ref in ['B', 'D']:\n",
    "        ax.set_ylabel(\"\", fontsize=12)\n",
    "    else:    \n",
    "        ax.set_ylabel(\"Difference (pip - control)\", fontsize=12)\n",
    "    \n",
    "    ax.text(-0.1, 1.1, ref, transform=ax.transAxes, \n",
    "            size=15, weight='bold')\n",
    "    ax.set_xscale('log')\n",
    "fig.suptitle(\n",
    "    \"Bland-Altman Plot: Agreement of Microscopy Counts\",\n",
    "    fontsize=18,\n",
    ")\n",
    "fig.tight_layout()\n",
    "\n",
    "plt.savefig(\"figures/microscopy_bland_altman_log_scale.png\", dpi=600, bbox_inches=\"tight\")"
   ]
  },
  {
   "cell_type": "markdown",
   "metadata": {},
   "source": [
    "### Culture growth"
   ]
  },
  {
   "cell_type": "markdown",
   "metadata": {},
   "source": [
    "Mixed growth"
   ]
  },
  {
   "cell_type": "code",
   "execution_count": null,
   "metadata": {},
   "outputs": [],
   "source": [
    "data_new = data[data.keep_sample == 1]  # Removing unpaired samples"
   ]
  },
  {
   "cell_type": "code",
   "execution_count": null,
   "metadata": {},
   "outputs": [],
   "source": [
    "data_new[\"Comment Desc\"] = (\n",
    "    data_new[\"Comment Desc\"].str.strip().str.lower().str.title()\n",
    ")  # tidy strings"
   ]
  },
  {
   "cell_type": "code",
   "execution_count": null,
   "metadata": {},
   "outputs": [],
   "source": [
    "data_new[\"Comment Desc\"].value_counts()  # show counts for each comment"
   ]
  },
  {
   "cell_type": "markdown",
   "metadata": {},
   "source": [
    "Mixed growth contingency table"
   ]
  },
  {
   "cell_type": "code",
   "execution_count": null,
   "metadata": {},
   "outputs": [],
   "source": [
    "table = pd.crosstab(\n",
    "    index=data_new[data_new.container == \"PLASTIC\"][\"Mixed growth\"].reset_index(\n",
    "        drop=True\n",
    "    ),\n",
    "    columns=data_new[data_new.container == \"PIP\"][\"Mixed growth\"].reset_index(\n",
    "        drop=True\n",
    "    ),\n",
    "    rownames=[\"Present in control\"],\n",
    "    colnames=[\"Present in PIP\"],\n",
    ").reindex(columns=[1, 0], index=[1, 0], fill_value=0)\n",
    "\n",
    "display(table)\n",
    "\n",
    "table.to_csv(\"tables/mixed_growth_contingency.csv\")"
   ]
  },
  {
   "cell_type": "markdown",
   "metadata": {},
   "source": [
    "Strep. B detection ***outside*** Antenatal"
   ]
  },
  {
   "cell_type": "code",
   "execution_count": null,
   "metadata": {},
   "outputs": [],
   "source": [
    "data_non_antenatal_keep = data[(data.keep_sample == 1) & (data.ward != \"ANTENATAL\")]"
   ]
  },
  {
   "cell_type": "code",
   "execution_count": null,
   "metadata": {},
   "outputs": [],
   "source": [
    "contingency_tbls = {}\n",
    "for x in [\"Streptococcus Group B\"]:\n",
    "\n",
    "    table = pd.crosstab(\n",
    "        index=data_non_antenatal_keep[data_non_antenatal_keep.container == \"PLASTIC\"][\n",
    "            x\n",
    "        ].reset_index(drop=True),\n",
    "        columns=data_non_antenatal_keep[data_non_antenatal_keep.container == \"PIP\"][\n",
    "            x\n",
    "        ].reset_index(drop=True),\n",
    "        rownames=[\"Present in control\"],\n",
    "        colnames=[\"Present in PIP\"],\n",
    "    ).reindex(columns=[1, 0], index=[1, 0], fill_value=0)\n",
    "    contingency_tbls[x] = table\n",
    "    display(table)\n",
    "\n",
    "table.to_csv(\"tables/strep_b_non_antenatal.csv\")"
   ]
  },
  {
   "cell_type": "markdown",
   "metadata": {},
   "source": [
    "Agreement in meeting culture thresholds"
   ]
  },
  {
   "cell_type": "code",
   "execution_count": null,
   "metadata": {},
   "outputs": [],
   "source": [
    "def culture_asp(row):\n",
    "    if row['All Small Particles'] > 10_000:\n",
    "        return 1\n",
    "    else:\n",
    "        return 0\n",
    "def culture_wbc(row):\n",
    "    if row['WBC (Urine)'] > 45:\n",
    "        return 1\n",
    "    else:\n",
    "        return 0\n",
    "def culture_bacteria(row):\n",
    "    if row['Bacteria'] > 5:\n",
    "        return 1\n",
    "    else:\n",
    "        return 0\n",
    "def culture_antenatal(row):\n",
    "    if row['ward'] == 'ANTENATAL':\n",
    "        return 1\n",
    "    else:\n",
    "        return 0\n",
    "def culture_outside_antenatal(row):\n",
    "    if row['ward'] == 'ANTENATAL':\n",
    "        return np.nan\n",
    "    elif row['cultured'] == 1:\n",
    "        return 1\n",
    "    else:\n",
    "        return 0"
   ]
  },
  {
   "cell_type": "markdown",
   "metadata": {},
   "source": [
    "Overall agreement in culture"
   ]
  },
  {
   "cell_type": "code",
   "execution_count": null,
   "metadata": {},
   "outputs": [],
   "source": [
    "data['culture_from_asp'] = data.apply(culture_asp, axis=1)\n",
    "data['culture_from_wbc'] = data.apply(culture_wbc, axis=1)\n",
    "data['culture_from_bacteria'] = data.apply(culture_bacteria, axis=1)\n",
    "data['culture_outside_antenatal'] = data.apply(culture_outside_antenatal, axis=1)\n",
    "\n",
    "data['culture_threshold_passed'] = data[['culture_from_asp', \n",
    "                                         'culture_from_wbc', \n",
    "                                         'culture_from_bacteria']].any(axis=1).astype(int)"
   ]
  },
  {
   "cell_type": "code",
   "execution_count": null,
   "metadata": {},
   "outputs": [],
   "source": [
    "target_vars = ['culture_from_asp', 'culture_from_wbc', 'culture_from_bacteria', 'cultured', 'culture_outside_antenatal']"
   ]
  },
  {
   "cell_type": "code",
   "execution_count": null,
   "metadata": {},
   "outputs": [],
   "source": [
    "contingency_tbls_dict = {}\n",
    "for x in target_vars:\n",
    "\n",
    "    table = pd.crosstab(\n",
    "        index=data[data.container == \"PLASTIC\"][x].reset_index(drop=True),\n",
    "        columns=data[data.container == \"PIP\"][x].reset_index(drop=True),\n",
    "        rownames=[\"Present in plastic container\"],\n",
    "        colnames=[\"Present in PIP container\"],\n",
    "    ).reindex(columns=[1, 0], index=[1, 0], fill_value=0)\n",
    "    contingency_tbls_dict[x] = table"
   ]
  },
  {
   "cell_type": "code",
   "execution_count": null,
   "metadata": {},
   "outputs": [],
   "source": [
    "combined = pd.concat(contingency_tbls_dict.values(), keys=contingency_tbls_dict.keys())\n",
    "combined.index.names = [\"Microscopy count\", \"\"]\n",
    "combined.to_csv(\"tables/microscopy_comparison_contengency.csv\")\n",
    "combined"
   ]
  },
  {
   "cell_type": "code",
   "execution_count": null,
   "metadata": {},
   "outputs": [],
   "source": [
    "# Populate summary table\n",
    "organsism_list = []\n",
    "lower_ci_list = []\n",
    "upper_ci_list = []\n",
    "diff_list = []\n",
    "pip_proportion_list = []\n",
    "pla_proportion_list = []\n",
    "\n",
    "final_table = []\n",
    "\n",
    "for o in target_vars:\n",
    "\n",
    "    table_o = contingency_tbls_dict[o]\n",
    "    A = table_o.loc[1, 1]\n",
    "    B = table_o.loc[0, 1]\n",
    "    C = table_o.loc[1, 0]\n",
    "    D = table_o.loc[0, 0]\n",
    "    N = table_o.sum().sum()\n",
    "\n",
    "    diff, lower_ci, upper_ci = wald(A, B, C, D, N)\n",
    "\n",
    "    organsism_list.append(o)\n",
    "    lower_ci_list.append(lower_ci)\n",
    "    upper_ci_list.append(upper_ci)\n",
    "    diff_list.append(diff)\n",
    "    pip_proportion_list.append((A + B) / N)\n",
    "    pla_proportion_list.append((A + C) / N)\n",
    "\n",
    "    primary_outcomes_df = pd.DataFrame(index=[o])\n",
    "    primary_outcomes_df[\"Cultured (PiP)\"] = A + B\n",
    "    primary_outcomes_df[\"Cultured (control)\"] = A + C\n",
    "    primary_outcomes_df['Difference in proportion'] = (\n",
    "                                A + B\n",
    "                            ) / N - (A + C) / N\n",
    "    primary_outcomes_df[\"lower CI\"] = round(\n",
    "        lower_ci, 4\n",
    "    )\n",
    "    primary_outcomes_df[\"Upper CI\"] = round(\n",
    "        upper_ci, 4\n",
    "    )\n",
    "\n",
    "    final_table.append(primary_outcomes_df)"
   ]
  },
  {
   "cell_type": "code",
   "execution_count": null,
   "metadata": {},
   "outputs": [],
   "source": [
    "summary_data = pd.concat(final_table)\n",
    "summary_data.to_csv(\"tables/microscopy_detection_summary.csv\")\n",
    "summary_data"
   ]
  }
 ],
 "metadata": {
  "kernelspec": {
   "display_name": "Python 3 (ipykernel)",
   "language": "python",
   "name": "python3"
  },
  "language_info": {
   "codemirror_mode": {
    "name": "ipython",
    "version": 3
   },
   "file_extension": ".py",
   "mimetype": "text/x-python",
   "name": "python",
   "nbconvert_exporter": "python",
   "pygments_lexer": "ipython3",
   "version": "3.10.8"
  }
 },
 "nbformat": 4,
 "nbformat_minor": 1
}
