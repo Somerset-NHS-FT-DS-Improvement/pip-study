{
 "cells": [
  {
   "cell_type": "code",
   "execution_count": null,
   "metadata": {},
   "outputs": [],
   "source": [
    "import pandas as pd\n",
    "from sklearn.metrics import cohen_kappa_score\n",
    "import seaborn as sns\n",
    "from matplotlib import pyplot as plt\n",
    "from prop_confidence_intervals import wald\n",
    "\n",
    "%matplotlib inline\n",
    "sns.set(style=\"whitegrid\", context=\"paper\")"
   ]
  },
  {
   "cell_type": "markdown",
   "metadata": {},
   "source": [
    "Read in cleaned data"
   ]
  },
  {
   "cell_type": "code",
   "execution_count": null,
   "metadata": {},
   "outputs": [],
   "source": [
    "data = pd.read_csv(\"PIP_cleaned_data.csv\")\n",
    "data = data[data.keep_sample == 1]  # Removing unpaired/erroneous samples"
   ]
  },
  {
   "cell_type": "markdown",
   "metadata": {},
   "source": [
    "Including 'All' column (i.e., detecting ***any*** microorganism)"
   ]
  },
  {
   "cell_type": "code",
   "execution_count": null,
   "metadata": {},
   "outputs": [],
   "source": [
    "data[\"All\"] = data[\n",
    "    [\n",
    "        \"Coliform (non-E. coli)\",\n",
    "        \"Enterococcus sp.\",\n",
    "        \"Escherichia coli\",\n",
    "        \"Klebsiella pneumoniae\",\n",
    "        \"Proteus sp.\",\n",
    "        \"Pseudomonas aeruginosa\",\n",
    "        \"Staphylococcus saprophyticus\",\n",
    "        \"Streptococcus Group B\",\n",
    "    ]\n",
    "].sum(axis=1)"
   ]
  },
  {
   "cell_type": "markdown",
   "metadata": {},
   "source": [
    "Define microorganism list"
   ]
  },
  {
   "cell_type": "code",
   "execution_count": null,
   "metadata": {},
   "outputs": [],
   "source": [
    "target_vars = [\n",
    "    \"Coliform (non-E. coli)\",\n",
    "    \"Enterococcus sp.\",\n",
    "    \"Escherichia coli\",\n",
    "    \"Klebsiella pneumoniae\",\n",
    "    \"Proteus sp.\",\n",
    "    \"Pseudomonas aeruginosa\",\n",
    "    \"Staphylococcus saprophyticus\",\n",
    "    \"Streptococcus Group B\",\n",
    "    \"All\",\n",
    "]"
   ]
  },
  {
   "cell_type": "markdown",
   "metadata": {},
   "source": [
    "Check for missing values"
   ]
  },
  {
   "cell_type": "code",
   "execution_count": null,
   "metadata": {},
   "outputs": [],
   "source": [
    "data.isna().sum()"
   ]
  },
  {
   "cell_type": "markdown",
   "metadata": {},
   "source": [
    "Obtain only sample cultured in ***both*** PiP and control"
   ]
  },
  {
   "cell_type": "code",
   "execution_count": null,
   "metadata": {},
   "outputs": [],
   "source": [
    "both_cultured_df = data.groupby(\"Specimen Number\").sum()[\"cultured\"] == 2"
   ]
  },
  {
   "cell_type": "code",
   "execution_count": null,
   "metadata": {},
   "outputs": [],
   "source": [
    "both_cultured_specimen_list = both_cultured_df[both_cultured_df].index.to_list()"
   ]
  },
  {
   "cell_type": "code",
   "execution_count": null,
   "metadata": {},
   "outputs": [],
   "source": [
    "len(both_cultured_specimen_list)"
   ]
  },
  {
   "cell_type": "code",
   "execution_count": null,
   "metadata": {},
   "outputs": [],
   "source": [
    "# Data containing only cultured samples\n",
    "data = data[data[\"Specimen Number\"].isin(both_cultured_specimen_list)]"
   ]
  },
  {
   "cell_type": "markdown",
   "metadata": {},
   "source": [
    "Positivity comparison between control and PiP"
   ]
  },
  {
   "cell_type": "code",
   "execution_count": null,
   "metadata": {},
   "outputs": [],
   "source": [
    "data[[\"container\"] + target_vars].groupby(by=\"container\").mean()"
   ]
  },
  {
   "cell_type": "markdown",
   "metadata": {},
   "source": [
    "Store contingency tables & Kappa values in dictionaries"
   ]
  },
  {
   "cell_type": "code",
   "execution_count": null,
   "metadata": {},
   "outputs": [],
   "source": [
    "contingency_tbls_dict = {}\n",
    "kappa_scores_dict = {}\n",
    "for x in target_vars:\n",
    "\n",
    "    table = pd.crosstab(\n",
    "        index=data[data.container == \"PLASTIC\"][x].reset_index(drop=True),\n",
    "        columns=data[data.container == \"PIP\"][x].reset_index(drop=True),\n",
    "        rownames=[\"Present in plastic container\"],\n",
    "        colnames=[\"Present in PIP container\"],\n",
    "    ).reindex(columns=[1, 0], index=[1, 0], fill_value=0)\n",
    "    contingency_tbls_dict[x] = table\n",
    "\n",
    "    kappa = cohen_kappa_score(\n",
    "        data[data.container == \"PLASTIC\"][x].dropna(how=\"any\"),\n",
    "        data[data.container == \"PIP\"][x].dropna(how=\"any\"),\n",
    "    )\n",
    "    kappa_scores_dict[x] = kappa"
   ]
  },
  {
   "cell_type": "markdown",
   "metadata": {},
   "source": [
    "Store stacked contingency table"
   ]
  },
  {
   "cell_type": "code",
   "execution_count": null,
   "metadata": {},
   "outputs": [],
   "source": [
    "combined = pd.concat(contingency_tbls_dict.values(), keys=contingency_tbls_dict.keys())\n",
    "combined.index.names = [\"Microorganism\", \"\"]\n",
    "combined.to_csv(\"tables/microorganism_comparison_contengency.csv\")\n",
    "combined"
   ]
  },
  {
   "cell_type": "markdown",
   "metadata": {},
   "source": [
    "Store Kappa values"
   ]
  },
  {
   "cell_type": "code",
   "execution_count": null,
   "metadata": {},
   "outputs": [],
   "source": [
    "kappa_data = pd.DataFrame.from_dict(\n",
    "    kappa_scores_dict, orient=\"index\", columns=[\"Kappa score\"]\n",
    ")\n",
    "kappa_data.to_csv(\"tables/microorganism_kappa_values.csv\")\n",
    "kappa_data"
   ]
  },
  {
   "cell_type": "markdown",
   "metadata": {},
   "source": [
    "Summary table comparing pip & control testing kits"
   ]
  },
  {
   "cell_type": "code",
   "execution_count": null,
   "metadata": {},
   "outputs": [],
   "source": [
    "# Populate summary table\n",
    "organsism_list = []\n",
    "lower_ci_list = []\n",
    "upper_ci_list = []\n",
    "diff_list = []\n",
    "pip_proportion_list = []\n",
    "pla_proportion_list = []\n",
    "\n",
    "final_table = []\n",
    "\n",
    "for o in target_vars:\n",
    "\n",
    "    table_o = contingency_tbls_dict[o]\n",
    "    A = table_o.loc[1, 1]\n",
    "    B = table_o.loc[0, 1]\n",
    "    C = table_o.loc[1, 0]\n",
    "    D = table_o.loc[0, 0]\n",
    "    N = len(data) / 2\n",
    "\n",
    "    diff, lower_ci, upper_ci = wald(A, B, C, D, N)\n",
    "\n",
    "    organsism_list.append(o)\n",
    "    lower_ci_list.append(lower_ci)\n",
    "    upper_ci_list.append(upper_ci)\n",
    "    diff_list.append(diff)\n",
    "    pip_proportion_list.append((A + B) / N)\n",
    "    pla_proportion_list.append((A + C) / N)\n",
    "\n",
    "    primary_outcomes_df = pd.DataFrame(index=[o])\n",
    "    primary_outcomes_df[\"Positive (PiP)\"] = A + B\n",
    "    primary_outcomes_df[\"Positive (control)\"] = A + C\n",
    "    primary_outcomes_df[\"Difference in proportion\"] = (A + B) / N - (A + C) / N\n",
    "    primary_outcomes_df[\"lower 95% CI\"] = round(lower_ci, 4)\n",
    "    primary_outcomes_df[\"Upper 95% CI\"] = round(upper_ci, 4)\n",
    "    primary_outcomes_df[\"Estimated control prevalence (per 10,000)\"] = int(\n",
    "        10_000 * (A + C) / N\n",
    "    )\n",
    "    primary_outcomes_df[\"Estimated PiP prevalence (per 10,000)\"] = int(\n",
    "        10_000 * (A + B) / N\n",
    "    )\n",
    "    primary_outcomes_df[\"Lower change (per 10,000)\"] = (\n",
    "        primary_outcomes_df[\"lower 95% CI\"] * 10_000\n",
    "        + primary_outcomes_df[\"Estimated control prevalence (per 10,000)\"]\n",
    "    ).astype(int)\n",
    "\n",
    "    primary_outcomes_df[\"Upper change (per 10,000)\"] = (\n",
    "        primary_outcomes_df[\"Upper 95% CI\"] * 10_000\n",
    "        + primary_outcomes_df[\"Estimated control prevalence (per 10,000)\"]\n",
    "    ).astype(int)\n",
    "\n",
    "    final_table.append(primary_outcomes_df)"
   ]
  },
  {
   "cell_type": "code",
   "execution_count": null,
   "metadata": {},
   "outputs": [],
   "source": [
    "summary_data = pd.concat(final_table).iloc[:-1]\n",
    "summary_data.to_csv(\"tables/microorganism_detection_summary.csv\")\n",
    "summary_data"
   ]
  },
  {
   "cell_type": "markdown",
   "metadata": {},
   "source": [
    "Confidence interval plots"
   ]
  },
  {
   "cell_type": "code",
   "execution_count": null,
   "metadata": {
    "scrolled": false
   },
   "outputs": [],
   "source": [
    "# Plot data\n",
    "df = summary_data.copy()\n",
    "df[\"Mean\"] = df[\"Difference in proportion\"]\n",
    "df[\"yerr\"] = df[\"Upper 95% CI\"] - df[\"Mean\"]  # Symmetric error\n",
    "df = df.reset_index(drop=False)\n",
    "\n",
    "# Plot style\n",
    "sns.set(style=\"whitegrid\", context=\"paper\")\n",
    "\n",
    "# Confidence interval plot\n",
    "plt.figure(figsize=(8, 4))\n",
    "ax = sns.pointplot(\n",
    "    x=\"Mean\", y=\"index\", data=df.iloc[:-1], linestyle=\"none\", marker=\".\", markersize=5\n",
    ")\n",
    "ax.errorbar(\n",
    "    df.iloc[:-1][\"Mean\"],\n",
    "    df.iloc[:-1][\"index\"],\n",
    "    xerr=df.iloc[:-1][\"yerr\"],\n",
    "    capsize=4,\n",
    "    linestyle=\"None\",\n",
    "    color=\"b\",\n",
    ")\n",
    "\n",
    "for i in range(len(df) - 1):\n",
    "    # Calculate lower / upper bounds\n",
    "    lower = df[\"Mean\"][i] - df[\"yerr\"][i]\n",
    "    upper = df[\"Mean\"][i] + df[\"yerr\"][i]\n",
    "\n",
    "    lower_text = f\"{lower:.4f}\" if lower != 0 else \"0\"\n",
    "    ax.text(\n",
    "        lower - 0.0005,\n",
    "        i,\n",
    "        lower_text,\n",
    "        ha=\"right\",\n",
    "        va=\"center\",\n",
    "        fontsize=10,\n",
    "        color=\"black\",\n",
    "        bbox=dict(facecolor=\"white\", edgecolor=\"none\", pad=0.5),\n",
    "    )\n",
    "\n",
    "    upper_text = f\"{upper:.4f}\" if upper != 0 else \"0\"\n",
    "    ax.text(\n",
    "        upper + 0.0005,\n",
    "        i,\n",
    "        upper_text,\n",
    "        ha=\"left\",\n",
    "        va=\"center\",\n",
    "        fontsize=10,\n",
    "        color=\"black\",\n",
    "        bbox=dict(facecolor=\"white\", edgecolor=\"none\", pad=0.5),\n",
    "    )\n",
    "\n",
    "# Plot labels/settings\n",
    "plt.xlabel(\"Estimated proportion difference (PiP-control)\", fontsize=12)\n",
    "plt.ylabel(\"\", fontsize=12)\n",
    "plt.title(\n",
    "    \"Difference in Proportion of Microorganism Detection (Wald 95% CIs)\", fontsize=12.5\n",
    ")\n",
    "plt.grid(True, linestyle=\"--\", linewidth=0.5)\n",
    "\n",
    "plt.xlim(-0.02, 0.02)\n",
    "ax.tick_params(axis=\"both\", which=\"major\", labelsize=12)\n",
    "\n",
    "plt.tight_layout()\n",
    "\n",
    "plt.savefig(\n",
    "    \"figures/microorganism_equivalency_comparison.png\", dpi=600, bbox_inches=\"tight\"\n",
    ")"
   ]
  },
  {
   "cell_type": "markdown",
   "metadata": {},
   "source": [
    "Comparison of culture agreement between testing kits"
   ]
  },
  {
   "cell_type": "code",
   "execution_count": null,
   "metadata": {},
   "outputs": [],
   "source": [
    "data = pd.read_csv(\"PIP_cleaned_data.csv\")\n",
    "data = data[data.keep_sample == 1]  # Removing unpaired/erroneous samples"
   ]
  },
  {
   "cell_type": "markdown",
   "metadata": {},
   "source": [
    "Contingency table for all samples"
   ]
  },
  {
   "cell_type": "code",
   "execution_count": null,
   "metadata": {},
   "outputs": [],
   "source": [
    "compare_culture = data[[\"container\", \"cultured\"]]\n",
    "\n",
    "table_1 = pd.crosstab(\n",
    "    index=compare_culture[compare_culture.container == \"PLASTIC\"][\n",
    "        \"cultured\"\n",
    "    ].reset_index(drop=True),\n",
    "    columns=compare_culture[compare_culture.container == \"PIP\"][\"cultured\"].reset_index(\n",
    "        drop=True\n",
    "    ),\n",
    "    rownames=[\"Cultured in plastic\"],\n",
    "    colnames=[\"Cultured in PIP\"],\n",
    ").reindex(columns=[1, 0], index=[1, 0], fill_value=0)\n",
    "table_1"
   ]
  },
  {
   "cell_type": "code",
   "execution_count": null,
   "metadata": {},
   "outputs": [],
   "source": [
    "A = table_1.loc[1, 1]\n",
    "B = table_1.loc[0, 1]\n",
    "C = table_1.loc[1, 0]\n",
    "D = table_1.loc[0, 0]\n",
    "N = len(compare_culture) / 2\n",
    "\n",
    "diff, lower_ci, upper_ci = wald(A, B, C, D, N)\n",
    "print(diff)"
   ]
  },
  {
   "cell_type": "code",
   "execution_count": null,
   "metadata": {},
   "outputs": [],
   "source": [
    "(A + D) / (A + B + C + D)  # Overall agreement perc"
   ]
  },
  {
   "cell_type": "markdown",
   "metadata": {},
   "source": [
    "Removing antenatal from comparison"
   ]
  },
  {
   "cell_type": "code",
   "execution_count": null,
   "metadata": {},
   "outputs": [],
   "source": [
    "compare_culture = data[data.ward == \"ANTENATAL\"][[\"container\", \"cultured\"]]\n",
    "\n",
    "table_2 = pd.crosstab(\n",
    "    index=compare_culture[compare_culture.container == \"PLASTIC\"][\n",
    "        \"cultured\"\n",
    "    ].reset_index(drop=True),\n",
    "    columns=compare_culture[compare_culture.container == \"PIP\"][\"cultured\"].reset_index(\n",
    "        drop=True\n",
    "    ),\n",
    "    rownames=[\"Cultured in plastic\"],\n",
    "    colnames=[\"Cultured in PIP\"],\n",
    ").reindex(columns=[1, 0], index=[1, 0], fill_value=0)\n",
    "table_2"
   ]
  },
  {
   "cell_type": "code",
   "execution_count": null,
   "metadata": {},
   "outputs": [],
   "source": [
    "compare_culture = data[data.ward != \"ANTENATAL\"][[\"container\", \"cultured\"]]\n",
    "\n",
    "table_3 = pd.crosstab(\n",
    "    index=compare_culture[compare_culture.container == \"PLASTIC\"][\n",
    "        \"cultured\"\n",
    "    ].reset_index(drop=True),\n",
    "    columns=compare_culture[compare_culture.container == \"PIP\"][\"cultured\"].reset_index(\n",
    "        drop=True\n",
    "    ),\n",
    "    rownames=[\"Cultured in plastic\"],\n",
    "    colnames=[\"Cultured in PIP\"],\n",
    ").reindex(columns=[1, 0], index=[1, 0], fill_value=0)\n",
    "table_3"
   ]
  },
  {
   "cell_type": "code",
   "execution_count": null,
   "metadata": {},
   "outputs": [],
   "source": [
    "A = table.loc[1, 1]\n",
    "B = table.loc[0, 1]\n",
    "C = table.loc[1, 0]\n",
    "D = table.loc[0, 0]\n",
    "N = len(compare_culture) / 2\n",
    "\n",
    "diff, lower_ci, upper_ci = wald(A, B, C, D, N)"
   ]
  },
  {
   "cell_type": "code",
   "execution_count": null,
   "metadata": {},
   "outputs": [],
   "source": [
    "(A + D) / (A + B + C + D)  # Overall agreement perc (non-antenatal)"
   ]
  },
  {
   "cell_type": "code",
   "execution_count": null,
   "metadata": {},
   "outputs": [],
   "source": [
    "pd.concat([table_1, table_2, table_3]).to_csv(\"tables/cultures_split_by_antenatal.csv\")"
   ]
  }
 ],
 "metadata": {
  "kernelspec": {
   "display_name": "Python 3 (ipykernel)",
   "language": "python",
   "name": "python3"
  },
  "language_info": {
   "codemirror_mode": {
    "name": "ipython",
    "version": 3
   },
   "file_extension": ".py",
   "mimetype": "text/x-python",
   "name": "python",
   "nbconvert_exporter": "python",
   "pygments_lexer": "ipython3",
   "version": "3.10.8"
  }
 },
 "nbformat": 4,
 "nbformat_minor": 1
}
